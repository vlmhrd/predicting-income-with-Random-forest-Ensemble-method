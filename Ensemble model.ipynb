{
 "cells": [
  {
   "cell_type": "code",
   "execution_count": 3,
   "id": "81fc9376-9096-4ffb-b361-5957009e53d8",
   "metadata": {},
   "outputs": [],
   "source": [
    "import pandas as pd\n",
    "import numpy as np\n",
    "import matplotlib.pyplot as plt\n",
    "import seaborn as sns\n",
    "\n",
    "from sklearn.model_selection import train_test_split\n",
    "from sklearn.tree import DecisionTreeClassifier\n",
    "from sklearn.ensemble import RandomForestClassifier, BaggingClassifier, RandomForestRegressor\n",
    "from sklearn import tree\n",
    "from sklearn.linear_model import LogisticRegression\n",
    "from sklearn.metrics import accuracy_score, precision_score, recall_score, f1_score, roc_auc_score\n",
    "\n",
    "\n",
    "#loading the data from https://archive.ics.uci.edu/dataset/20/census+income\n",
    "col_names = ['age', 'workclass', 'fnlwgt','education', 'education-num', \n",
    "'marital-status', 'occupation', 'relationship', 'race', 'sex',\n",
    "'capital-gain','capital-loss', 'hours-per-week','native-country', 'income']\n",
    "df = pd.read_csv('Predicting_income_data.csv', header=None, names = col_names)\n",
    "for c in df.select_dtypes(include=['object']).columns:\n",
    "    df[c] = df[c].str.strip()\n"
   ]
  },
  {
   "cell_type": "code",
   "execution_count": 4,
   "id": "9a03b94c-9c72-42fb-89e4-57e1417c8b38",
   "metadata": {},
   "outputs": [
    {
     "data": {
      "text/plain": [
       "income\n",
       "<=50K    0.75919\n",
       ">50K     0.24081\n",
       "Name: proportion, dtype: float64"
      ]
     },
     "execution_count": 4,
     "metadata": {},
     "output_type": "execute_result"
    }
   ],
   "source": [
    "# how is income distributed? \n",
    "income_values = df.income.value_counts(normalize = True)\n",
    "income_values"
   ]
  },
  {
   "cell_type": "code",
   "execution_count": 7,
   "id": "88885bca-16af-4ed0-91d4-a69d0c5db9cf",
   "metadata": {},
   "outputs": [
    {
     "data": {
      "text/plain": [
       "<bound method NDFrame.head of        age  capital-gain  capital-loss  hours-per-week  sex_Male  \\\n",
       "0       39          2174             0              40      True   \n",
       "1       50             0             0              13      True   \n",
       "2       38             0             0              40      True   \n",
       "3       53             0             0              40      True   \n",
       "4       28             0             0              40     False   \n",
       "...    ...           ...           ...             ...       ...   \n",
       "32556   27             0             0              38     False   \n",
       "32557   40             0             0              40      True   \n",
       "32558   58             0             0              40     False   \n",
       "32559   22             0             0              20      True   \n",
       "32560   52         15024             0              40     False   \n",
       "\n",
       "       race_Asian-Pac-Islander  race_Black  race_Other  race_White  \n",
       "0                        False       False       False        True  \n",
       "1                        False       False       False        True  \n",
       "2                        False       False       False        True  \n",
       "3                        False        True       False       False  \n",
       "4                        False        True       False       False  \n",
       "...                        ...         ...         ...         ...  \n",
       "32556                    False       False       False        True  \n",
       "32557                    False       False       False        True  \n",
       "32558                    False       False       False        True  \n",
       "32559                    False       False       False        True  \n",
       "32560                    False       False       False        True  \n",
       "\n",
       "[32561 rows x 9 columns]>"
      ]
     },
     "execution_count": 7,
     "metadata": {},
     "output_type": "execute_result"
    }
   ],
   "source": [
    "# defining x, y \n",
    "feature_cols = ['age',\n",
    "       'capital-gain', 'capital-loss', 'hours-per-week', 'sex','race']\n",
    "\n",
    "X = pd.get_dummies(df[feature_cols], drop_first = True)\n",
    "X.head\n",
    "y = np.where(df.income=='<=50K', 0, 1)\n",
    "X.head"
   ]
  },
  {
   "cell_type": "code",
   "execution_count": 9,
   "id": "1ea0ed76-9127-4140-9f1d-4046249335e9",
   "metadata": {},
   "outputs": [
    {
     "name": "stdout",
     "output_type": "stream",
     "text": [
      "Accuracy score for default random forest: 81.729%\n"
     ]
    }
   ],
   "source": [
    "# splitting the data and applying the model \n",
    "x_train, x_test, y_train, y_test = train_test_split(X,y, test_size=.2, random_state = 1)\n",
    "rfc = RandomForestClassifier()\n",
    "rfc.fit(x_train, y_train)\n",
    "rfc.predict(x_test)\n",
    "print(f'Accuracy score for default random forest: {round(rfc.score(x_test, y_test)*100,3)}%')"
   ]
  },
  {
   "cell_type": "code",
   "execution_count": 11,
   "id": "b7d7f5f8-0166-435a-83aa-e06dc928707a",
   "metadata": {},
   "outputs": [],
   "source": [
    "accuracy_train=[]\n",
    "accuracy_test = []\n"
   ]
  },
  {
   "cell_type": "code",
   "execution_count": null,
   "id": "18dee642-b355-4705-aaf7-33fee9346e4d",
   "metadata": {},
   "outputs": [],
   "source": [
    "# what is the best max_depth for the model?\n",
    "np.random.seed(0)\n",
    "\n",
    "depths = range(1,26)\n",
    "for i in depths:\n",
    "    rfc = RandomForestClassifier(max_depth=i)\n",
    "    rfc.fit(x_train, y_train)\n",
    "    y_pred = rfc.predict(x_test)\n",
    "    accuracy_test.append(accuracy_score(y_test, rfc.predict(x_test)))\n",
    "    accuracy_train.append(accuracy_score(y_train, rfc.predict(x_train)))\n",
    "    "
   ]
  },
  {
   "cell_type": "code",
   "execution_count": 14,
   "id": "a0179574-946f-431b-a6a3-c847d5c0c478",
   "metadata": {},
   "outputs": [
    {
     "name": "stdout",
     "output_type": "stream",
     "text": [
      "The highest accuracy on the test is achieved when depth: 12\n",
      "The highest accuracy on the test set is: 83.464%\n"
     ]
    }
   ],
   "source": [
    "best_acc= np.max(accuracy_test)\n",
    "best_depth = depths[np.argmax(accuracy_test)]\n",
    "print(f'The highest accuracy on the test is achieved when depth: {best_depth}')\n",
    "print(f'The highest accuracy on the test set is: {round(best_acc*100,3)}%')"
   ]
  },
  {
   "cell_type": "code",
   "execution_count": 23,
   "id": "cd4f56cb-cb19-433e-9115-60999b458d91",
   "metadata": {},
   "outputs": [
    {
     "name": "stdout",
     "output_type": "stream",
     "text": [
      "Top 5 random forest features:\n",
      "          feature  importance\n",
      "1    capital-gain    0.370119\n",
      "0             age    0.248969\n",
      "3  hours-per-week    0.140480\n",
      "2    capital-loss    0.140439\n",
      "4        sex_Male    0.078258\n"
     ]
    }
   ],
   "source": [
    "# fitting the best depth to the model \n",
    "best_rfc = RandomForestClassifier(max_depth=best_depth)\n",
    "best_rfc.fit(x_train, y_train)\n",
    "\n",
    "\n",
    "# what are the most relevant features?\n",
    "feature_imp_df = pd.DataFrame(zip(x_train.columns, best_rfc.feature_importances_),  columns=['feature', 'importance'])\n",
    "print('Top 5 random forest features:')\n",
    "print(feature_imp_df.sort_values('importance', ascending=False).iloc[0:5])\n"
   ]
  }
 ],
 "metadata": {
  "kernelspec": {
   "display_name": "Python [conda env:base] *",
   "language": "python",
   "name": "conda-base-py"
  },
  "language_info": {
   "codemirror_mode": {
    "name": "ipython",
    "version": 3
   },
   "file_extension": ".py",
   "mimetype": "text/x-python",
   "name": "python",
   "nbconvert_exporter": "python",
   "pygments_lexer": "ipython3",
   "version": "3.12.7"
  }
 },
 "nbformat": 4,
 "nbformat_minor": 5
}
